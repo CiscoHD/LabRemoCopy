{
 "cells": [
  {
   "cell_type": "code",
   "execution_count": 1,
   "metadata": {},
   "outputs": [],
   "source": [
    "import arduino"
   ]
  },
  {
   "cell_type": "code",
   "execution_count": 2,
   "metadata": {},
   "outputs": [
    {
     "name": "stdout",
     "output_type": "stream",
     "text": [
      "\n",
      "[Metodo: runTest]\n",
      "\n"
     ]
    }
   ],
   "source": [
    "ard_infres = arduino.TestArduinoCLI()\n",
    "ard_infres.setUp()"
   ]
  },
  {
   "cell_type": "code",
   "execution_count": 14,
   "metadata": {},
   "outputs": [],
   "source": [
    "from os import system\n",
    "import os"
   ]
  },
  {
   "cell_type": "code",
   "execution_count": 6,
   "metadata": {},
   "outputs": [
    {
     "name": "stdout",
     "output_type": "stream",
     "text": [
      "/:  Bus 02.Port 1: Dev 1, Class=root_hub, Driver=xhci_hcd/7p, 5000M\n",
      "    ID 1d6b:0003 Linux Foundation 3.0 root hub\n",
      "/:  Bus 01.Port 1: Dev 1, Class=root_hub, Driver=xhci_hcd/8p, 480M\n",
      "    ID 1d6b:0002 Linux Foundation 2.0 root hub\n",
      "    |__ Port 2: Dev 5, If 0, Class=Communications, Driver=cdc_acm, 12M\n",
      "        ID 2341:0043 Arduino SA Uno R3 (CDC ACM)\n",
      "    |__ Port 2: Dev 5, If 1, Class=CDC Data, Driver=cdc_acm, 12M\n",
      "        ID 2341:0043 Arduino SA Uno R3 (CDC ACM)\n",
      "    |__ Port 4: Dev 4, If 1, Class=Wireless, Driver=btusb, 12M\n",
      "        ID 04ca:3010 Lite-On Technology Corp. \n",
      "    |__ Port 4: Dev 4, If 0, Class=Wireless, Driver=btusb, 12M\n",
      "        ID 04ca:3010 Lite-On Technology Corp. \n",
      "    |__ Port 5: Dev 3, If 0, Class=Video, Driver=uvcvideo, 480M\n",
      "        ID 13d3:5a01 IMC Networks \n",
      "    |__ Port 5: Dev 3, If 1, Class=Video, Driver=uvcvideo, 480M\n",
      "        ID 13d3:5a01 IMC Networks \n"
     ]
    },
    {
     "data": {
      "text/plain": [
       "0"
      ]
     },
     "execution_count": 6,
     "metadata": {},
     "output_type": "execute_result"
    }
   ],
   "source": [
    "system(\"lsusb -tv\")"
   ]
  },
  {
   "cell_type": "code",
   "execution_count": 9,
   "metadata": {},
   "outputs": [
    {
     "name": "stdout",
     "output_type": "stream",
     "text": [
      "Port         Protocol Type              Board Name  FQBN            Core       \n",
      "/dev/ttyACM0 serial   Serial Port (USB) Arduino Uno arduino:avr:uno arduino:avr\n",
      "\n"
     ]
    }
   ],
   "source": [
    "dispositivos = system(\"arduino-cli board list\")"
   ]
  },
  {
   "cell_type": "code",
   "execution_count": 16,
   "metadata": {},
   "outputs": [],
   "source": []
  },
  {
   "cell_type": "code",
   "execution_count": 46,
   "metadata": {},
   "outputs": [],
   "source": [
    "import re\n",
    "import pandas as pd"
   ]
  },
  {
   "cell_type": "code",
   "execution_count": 55,
   "metadata": {},
   "outputs": [
    {
     "data": {
      "text/plain": [
       "'/dev/ttyACM0'"
      ]
     },
     "execution_count": 55,
     "metadata": {},
     "output_type": "execute_result"
    }
   ],
   "source": [
    "dispositivos = os.popen(\"arduino-cli board list\").read()\n",
    "dis = list(dispositivos.split(sep='\\n'))[1].split(sep=' ')[0]\n",
    "dis"
   ]
  },
  {
   "cell_type": "code",
   "execution_count": 62,
   "metadata": {},
   "outputs": [
    {
     "data": {
      "text/plain": [
       "['ID        Setting   Default Values                                                                                                                                    ',\n",
       " 'baudrate  Baudrate  \\x1b[32m9600\\x1b[0m    300, 600, 750, 1200, 2400, 4800, 9600, 19200, 31250, 38400, 57600, 74880, 115200, 230400, 250000, 460800, 500000, 921600, 1000000, 2000000',\n",
       " 'dtr       DTR       \\x1b[32mon\\x1b[0m      on, off                                                                                                                                   ',\n",
       " 'bits      Data bits \\x1b[32m8\\x1b[0m       5, 6, 7, 8, 9                                                                                                                             ',\n",
       " 'parity    Parity    \\x1b[32mnone\\x1b[0m    none, even, odd, mark, space                                                                                                              ',\n",
       " 'rts       RTS       \\x1b[32mon\\x1b[0m      on, off                                                                                                                                   ',\n",
       " 'stop_bits Stop bits \\x1b[32m1\\x1b[0m       1, 1.5, 2                                                                                                                                 ',\n",
       " '',\n",
       " '']"
      ]
     },
     "execution_count": 62,
     "metadata": {},
     "output_type": "execute_result"
    }
   ],
   "source": [
    "os.popen(f\"arduino-cli monitor -p {dis} --describe\").read().split(sep=\"\\n\")"
   ]
  },
  {
   "cell_type": "code",
   "execution_count": null,
   "metadata": {},
   "outputs": [],
   "source": []
  },
  {
   "cell_type": "code",
   "execution_count": null,
   "metadata": {},
   "outputs": [],
   "source": [
    "accion de tarjeta de tabjo progrmacion\n",
    "accion para tarjeta de infrestructura progrmacion\n",
    "servicios \n",
    "accion arduino mega inicializacion y mensaje \n"
   ]
  }
 ],
 "metadata": {
  "kernelspec": {
   "display_name": "Python 3",
   "language": "python",
   "name": "python3"
  },
  "language_info": {
   "codemirror_mode": {
    "name": "ipython",
    "version": 3
   },
   "file_extension": ".py",
   "mimetype": "text/x-python",
   "name": "python",
   "nbconvert_exporter": "python",
   "pygments_lexer": "ipython3",
   "version": "3.10.12"
  },
  "orig_nbformat": 4
 },
 "nbformat": 4,
 "nbformat_minor": 2
}
