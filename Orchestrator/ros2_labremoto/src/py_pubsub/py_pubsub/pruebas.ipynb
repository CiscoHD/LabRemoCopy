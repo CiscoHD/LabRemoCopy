{
 "cells": [
  {
   "cell_type": "code",
   "execution_count": 1,
   "metadata": {},
   "outputs": [],
   "source": [
    "import arduino\n",
    "import os\n",
    "import re\n",
    "import pandas as pd\n",
    "import json"
   ]
  },
  {
   "cell_type": "code",
   "execution_count": 2,
   "metadata": {},
   "outputs": [],
   "source": [
    "def get_head(head):\n",
    "    inicios = re.split(r' {2,}',head)\n",
    "    infog = pd.DataFrame(inicios)\n",
    "    infog['len'] = infog[0].apply(len)\n",
    "    infog  = infog[infog['len']>0]\n",
    "\n",
    "    return list(infog[0])\n",
    "\n",
    "def split_row(row,positions):\n",
    "    parts = []\n",
    "    \n",
    "    for i in range(1,len(positions)):\n",
    "        parts.append(row[positions[i-1]:positions[i]-1])\n",
    "\n",
    "    parts.append(row[positions[i]:-1])\n",
    "    \n",
    "    return parts\n",
    "\n",
    "def transform(row1,head):\n",
    "    \n",
    "    data = pd.DataFrame(get_head(head))\n",
    "    data['positions'] = data[0].apply(lambda x: re.search(x, head).start())\n",
    "    \n",
    "    parts = split_row(row1,data['positions'])\n",
    "\n",
    "    return parts\n",
    "\n",
    "\n",
    "def devices_arduino():\n",
    "    dispositivos = os.popen(\"arduino-cli board list\").read()\n",
    "    info = pd.Series(list(dispositivos.split(sep='\\n')))\n",
    "    info = info[info.apply(len)>0]\n",
    "\n",
    "    final = info[1:].apply(lambda x: transform(x,info[0])).apply(pd.Series)\n",
    "    final = final.rename(columns = dict(zip(final.columns,get_head(info[0]))))\n",
    "\n",
    "    return  final\n",
    "\n",
    "def devices_arduino_info():\n",
    "    dispositivos = pd.concat(list(map(pd.json_normalize,json.loads(os.popen(\"arduino-cli board list --format json\").read()))))\n",
    "    return dispositivos\n"
   ]
  },
  {
   "cell_type": "code",
   "execution_count": 3,
   "metadata": {},
   "outputs": [
    {
     "data": {
      "text/html": [
       "<div>\n",
       "<style scoped>\n",
       "    .dataframe tbody tr th:only-of-type {\n",
       "        vertical-align: middle;\n",
       "    }\n",
       "\n",
       "    .dataframe tbody tr th {\n",
       "        vertical-align: top;\n",
       "    }\n",
       "\n",
       "    .dataframe thead th {\n",
       "        text-align: right;\n",
       "    }\n",
       "</style>\n",
       "<table border=\"1\" class=\"dataframe\">\n",
       "  <thead>\n",
       "    <tr style=\"text-align: right;\">\n",
       "      <th></th>\n",
       "      <th>Port</th>\n",
       "      <th>Protocol Type</th>\n",
       "      <th>Board Name</th>\n",
       "      <th>FQBN</th>\n",
       "      <th>Core</th>\n",
       "    </tr>\n",
       "  </thead>\n",
       "  <tbody>\n",
       "    <tr>\n",
       "      <th>1</th>\n",
       "      <td>/dev/ttyACM0</td>\n",
       "      <td>serial   Serial Port (USB)</td>\n",
       "      <td>Arduino Uno</td>\n",
       "      <td>arduino:avr:uno</td>\n",
       "      <td>arduino:av</td>\n",
       "    </tr>\n",
       "  </tbody>\n",
       "</table>\n",
       "</div>"
      ],
      "text/plain": [
       "           Port               Protocol Type   Board Name             FQBN  \\\n",
       "1  /dev/ttyACM0  serial   Serial Port (USB)  Arduino Uno  arduino:avr:uno   \n",
       "\n",
       "         Core  \n",
       "1  arduino:av  "
      ]
     },
     "execution_count": 3,
     "metadata": {},
     "output_type": "execute_result"
    }
   ],
   "source": [
    "devices_arduino()"
   ]
  },
  {
   "cell_type": "code",
   "execution_count": 7,
   "metadata": {},
   "outputs": [
    {
     "data": {
      "text/html": [
       "<div>\n",
       "<style scoped>\n",
       "    .dataframe tbody tr th:only-of-type {\n",
       "        vertical-align: middle;\n",
       "    }\n",
       "\n",
       "    .dataframe tbody tr th {\n",
       "        vertical-align: top;\n",
       "    }\n",
       "\n",
       "    .dataframe thead th {\n",
       "        text-align: right;\n",
       "    }\n",
       "</style>\n",
       "<table border=\"1\" class=\"dataframe\">\n",
       "  <thead>\n",
       "    <tr style=\"text-align: right;\">\n",
       "      <th></th>\n",
       "      <th>matching_boards</th>\n",
       "      <th>port.address</th>\n",
       "      <th>port.label</th>\n",
       "      <th>port.protocol</th>\n",
       "      <th>port.protocol_label</th>\n",
       "      <th>port.properties.pid</th>\n",
       "      <th>port.properties.serialNumber</th>\n",
       "      <th>port.properties.vid</th>\n",
       "      <th>port.hardware_id</th>\n",
       "    </tr>\n",
       "  </thead>\n",
       "  <tbody>\n",
       "    <tr>\n",
       "      <th>0</th>\n",
       "      <td>[{'name': 'Arduino Uno', 'fqbn': 'arduino:avr:...</td>\n",
       "      <td>/dev/ttyACM0</td>\n",
       "      <td>/dev/ttyACM0</td>\n",
       "      <td>serial</td>\n",
       "      <td>Serial Port (USB)</td>\n",
       "      <td>0x0043</td>\n",
       "      <td>75633313133351901271</td>\n",
       "      <td>0x2341</td>\n",
       "      <td>75633313133351901271</td>\n",
       "    </tr>\n",
       "  </tbody>\n",
       "</table>\n",
       "</div>"
      ],
      "text/plain": [
       "                                     matching_boards  port.address  \\\n",
       "0  [{'name': 'Arduino Uno', 'fqbn': 'arduino:avr:...  /dev/ttyACM0   \n",
       "\n",
       "     port.label port.protocol port.protocol_label port.properties.pid  \\\n",
       "0  /dev/ttyACM0        serial   Serial Port (USB)              0x0043   \n",
       "\n",
       "  port.properties.serialNumber port.properties.vid      port.hardware_id  \n",
       "0         75633313133351901271              0x2341  75633313133351901271  "
      ]
     },
     "execution_count": 7,
     "metadata": {},
     "output_type": "execute_result"
    }
   ],
   "source": [
    "dispositivos = devices_arduino_info()\n",
    "dispositivos"
   ]
  },
  {
   "cell_type": "code",
   "execution_count": 8,
   "metadata": {},
   "outputs": [],
   "source": [
    "port = dispositivos['port.label'][0]\n",
    "fqbn_ard = dispositivos.iloc[0]['matching_boards'][0]['fqbn']"
   ]
  },
  {
   "cell_type": "code",
   "execution_count": 9,
   "metadata": {},
   "outputs": [],
   "source": [
    "sketch_path = \"/home/ffelix07/Documents/Arduino/Prueba\""
   ]
  },
  {
   "cell_type": "code",
   "execution_count": 10,
   "metadata": {},
   "outputs": [
    {
     "name": "stdout",
     "output_type": "stream",
     "text": [
      "\n",
      "[Metodo: runTest]\n",
      "\n"
     ]
    }
   ],
   "source": [
    "ard_infres = arduino.TestArduinoCLI()\n",
    "ard_infres.setUp()"
   ]
  },
  {
   "cell_type": "code",
   "execution_count": 11,
   "metadata": {},
   "outputs": [
    {
     "name": "stdout",
     "output_type": "stream",
     "text": [
      "Sketch uses 1268 bytes (3%) of program storage space. Maximum is 32256 bytes.\n",
      "Global variables use 9 bytes (0%) of dynamic memory, leaving 2039 bytes for local variables. Maximum is 2048 bytes.\n",
      "\n",
      "\u001b[92mUsed platform\u001b[0m \u001b[92mVersion\u001b[0m \u001b[90mPath\u001b[0m                                                         \n",
      "\u001b[93marduino:avr\u001b[0m   1.8.6   \u001b[90m/home/ffelix07/.arduino15/packages/arduino/hardware/avr/1.8.6\u001b[0m\n",
      "\n"
     ]
    }
   ],
   "source": [
    "ard_infres.testCompilationSuccess(fqbn_ard,sketch_path)"
   ]
  },
  {
   "cell_type": "code",
   "execution_count": 12,
   "metadata": {},
   "outputs": [
    {
     "name": "stdout",
     "output_type": "stream",
     "text": [
      "New upload port: /dev/ttyACM0 (serial)\n",
      "\n"
     ]
    }
   ],
   "source": [
    "ard_infres.testUploadSuccess(port,sketch_path)"
   ]
  },
  {
   "cell_type": "code",
   "execution_count": null,
   "metadata": {},
   "outputs": [],
   "source": []
  },
  {
   "cell_type": "code",
   "execution_count": null,
   "metadata": {},
   "outputs": [],
   "source": []
  },
  {
   "cell_type": "code",
   "execution_count": null,
   "metadata": {},
   "outputs": [],
   "source": []
  },
  {
   "cell_type": "code",
   "execution_count": null,
   "metadata": {},
   "outputs": [],
   "source": []
  },
  {
   "cell_type": "code",
   "execution_count": 14,
   "metadata": {},
   "outputs": [
    {
     "name": "stderr",
     "output_type": "stream",
     "text": [
      "not running in a terminal\n"
     ]
    },
    {
     "data": {
      "text/plain": [
       "256"
      ]
     },
     "execution_count": 14,
     "metadata": {},
     "output_type": "execute_result"
    }
   ],
   "source": [
    "os.system(f\"arduino-cli monitor -p {port} -b {fqbn_ard}\")"
   ]
  },
  {
   "cell_type": "code",
   "execution_count": null,
   "metadata": {},
   "outputs": [],
   "source": [
    "accion de tarjeta de tabjo progrmacion\n",
    "accion para tarjeta de infrestructura progrmacion\n",
    "servicios \n",
    "accion arduino mega inicializacion y mensaje \n"
   ]
  }
 ],
 "metadata": {
  "kernelspec": {
   "display_name": "Python 3",
   "language": "python",
   "name": "python3"
  },
  "language_info": {
   "codemirror_mode": {
    "name": "ipython",
    "version": 3
   },
   "file_extension": ".py",
   "mimetype": "text/x-python",
   "name": "python",
   "nbconvert_exporter": "python",
   "pygments_lexer": "ipython3",
   "version": "3.10.12"
  },
  "orig_nbformat": 4
 },
 "nbformat": 4,
 "nbformat_minor": 2
}
