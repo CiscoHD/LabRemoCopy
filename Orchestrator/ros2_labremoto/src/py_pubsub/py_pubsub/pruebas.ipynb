{
 "cells": [
  {
   "cell_type": "code",
   "execution_count": null,
   "metadata": {},
   "outputs": [],
   "source": []
  },
  {
   "cell_type": "code",
   "execution_count": 62,
   "metadata": {},
   "outputs": [],
   "source": [
    "def get_head(head):\n",
    "    inicios = re.split(r' {2,}',head)\n",
    "    infog = pd.DataFrame(inicios)\n",
    "    infog['len'] = infog[0].apply(len)\n",
    "    infog  = infog[infog['len']>0]\n",
    "\n",
    "    return list(infog[0])\n",
    "\n",
    "def split_row(row,positions):\n",
    "    parts = []\n",
    "    \n",
    "    for i in range(1,len(positions)):\n",
    "        parts.append(row[positions[i-1]:positions[i]-1])\n",
    "\n",
    "    parts.append(row[positions[i]:-1])\n",
    "    \n",
    "    return parts\n",
    "\n",
    "def transform(row1,head):\n",
    "    \n",
    "    data = pd.DataFrame(get_head(head))\n",
    "    data['positions'] = data[0].apply(lambda x: re.search(x, head).start())\n",
    "    \n",
    "    parts = split_row(row1,data['positions'])\n",
    "\n",
    "    return parts\n",
    "\n",
    "\n",
    "def devices_arduino():\n",
    "    dispositivos = os.popen(\"arduino-cli board list\").read()\n",
    "    info = pd.Series(list(dispositivos.split(sep='\\n')))\n",
    "    info = info[info.apply(len)>0]\n",
    "\n",
    "    final = info[1:].apply(lambda x: transform(x,info[0])).apply(pd.Series)\n",
    "    final = final.rename(columns = dict(zip(final.columns,get_head(info[0]))))\n",
    "\n",
    "    return  final\n",
    "\n",
    "def devices_arduino_info():\n",
    "    dispositivos = pd.concat(list(map(pd.json_normalize,json.loads(os.popen(\"arduino-cli board list --format json\").read()))))\n",
    "    return dispositivos\n"
   ]
  },
  {
   "cell_type": "code",
   "execution_count": 3,
   "metadata": {},
   "outputs": [
    {
     "data": {
      "text/html": [
       "<div>\n",
       "<style scoped>\n",
       "    .dataframe tbody tr th:only-of-type {\n",
       "        vertical-align: middle;\n",
       "    }\n",
       "\n",
       "    .dataframe tbody tr th {\n",
       "        vertical-align: top;\n",
       "    }\n",
       "\n",
       "    .dataframe thead th {\n",
       "        text-align: right;\n",
       "    }\n",
       "</style>\n",
       "<table border=\"1\" class=\"dataframe\">\n",
       "  <thead>\n",
       "    <tr style=\"text-align: right;\">\n",
       "      <th></th>\n",
       "      <th>Port</th>\n",
       "      <th>Protocol Type</th>\n",
       "      <th>Board Name</th>\n",
       "      <th>FQBN</th>\n",
       "      <th>Core</th>\n",
       "    </tr>\n",
       "  </thead>\n",
       "  <tbody>\n",
       "    <tr>\n",
       "      <th>1</th>\n",
       "      <td>/dev/ttyACM0</td>\n",
       "      <td>serial   Serial Port (USB)</td>\n",
       "      <td>Arduino Uno</td>\n",
       "      <td>arduino:avr:uno</td>\n",
       "      <td>arduino:av</td>\n",
       "    </tr>\n",
       "  </tbody>\n",
       "</table>\n",
       "</div>"
      ],
      "text/plain": [
       "           Port               Protocol Type   Board Name             FQBN  \\\n",
       "1  /dev/ttyACM0  serial   Serial Port (USB)  Arduino Uno  arduino:avr:uno   \n",
       "\n",
       "         Core  \n",
       "1  arduino:av  "
      ]
     },
     "execution_count": 3,
     "metadata": {},
     "output_type": "execute_result"
    }
   ],
   "source": [
    "devices_arduino()"
   ]
  },
  {
   "cell_type": "code",
   "execution_count": 7,
   "metadata": {},
   "outputs": [
    {
     "data": {
      "text/html": [
       "<div>\n",
       "<style scoped>\n",
       "    .dataframe tbody tr th:only-of-type {\n",
       "        vertical-align: middle;\n",
       "    }\n",
       "\n",
       "    .dataframe tbody tr th {\n",
       "        vertical-align: top;\n",
       "    }\n",
       "\n",
       "    .dataframe thead th {\n",
       "        text-align: right;\n",
       "    }\n",
       "</style>\n",
       "<table border=\"1\" class=\"dataframe\">\n",
       "  <thead>\n",
       "    <tr style=\"text-align: right;\">\n",
       "      <th></th>\n",
       "      <th>matching_boards</th>\n",
       "      <th>port.address</th>\n",
       "      <th>port.label</th>\n",
       "      <th>port.protocol</th>\n",
       "      <th>port.protocol_label</th>\n",
       "      <th>port.properties.pid</th>\n",
       "      <th>port.properties.serialNumber</th>\n",
       "      <th>port.properties.vid</th>\n",
       "      <th>port.hardware_id</th>\n",
       "    </tr>\n",
       "  </thead>\n",
       "  <tbody>\n",
       "    <tr>\n",
       "      <th>0</th>\n",
       "      <td>[{'name': 'Arduino Uno', 'fqbn': 'arduino:avr:...</td>\n",
       "      <td>/dev/ttyACM0</td>\n",
       "      <td>/dev/ttyACM0</td>\n",
       "      <td>serial</td>\n",
       "      <td>Serial Port (USB)</td>\n",
       "      <td>0x0043</td>\n",
       "      <td>75633313133351901271</td>\n",
       "      <td>0x2341</td>\n",
       "      <td>75633313133351901271</td>\n",
       "    </tr>\n",
       "  </tbody>\n",
       "</table>\n",
       "</div>"
      ],
      "text/plain": [
       "                                     matching_boards  port.address  \\\n",
       "0  [{'name': 'Arduino Uno', 'fqbn': 'arduino:avr:...  /dev/ttyACM0   \n",
       "\n",
       "     port.label port.protocol port.protocol_label port.properties.pid  \\\n",
       "0  /dev/ttyACM0        serial   Serial Port (USB)              0x0043   \n",
       "\n",
       "  port.properties.serialNumber port.properties.vid      port.hardware_id  \n",
       "0         75633313133351901271              0x2341  75633313133351901271  "
      ]
     },
     "execution_count": 7,
     "metadata": {},
     "output_type": "execute_result"
    }
   ],
   "source": [
    "dispositivos = devices_arduino_info()\n",
    "dispositivos"
   ]
  },
  {
   "cell_type": "code",
   "execution_count": 8,
   "metadata": {},
   "outputs": [],
   "source": [
    "port = dispositivos['port.label'][0]\n",
    "fqbn_ard = dispositivos.iloc[0]['matching_boards'][0]['fqbn']"
   ]
  },
  {
   "cell_type": "code",
   "execution_count": 4,
   "metadata": {},
   "outputs": [],
   "source": [
    "sketch_path = \"/home/ffelix07/Documents/Arduino/Prueba\""
   ]
  },
  {
   "cell_type": "code",
   "execution_count": 10,
   "metadata": {},
   "outputs": [
    {
     "name": "stdout",
     "output_type": "stream",
     "text": [
      "\n",
      "[Metodo: runTest]\n",
      "\n"
     ]
    }
   ],
   "source": [
    "ard_infres = arduino.TestArduinoCLI()\n",
    "ard_infres.setUp()"
   ]
  },
  {
   "cell_type": "code",
   "execution_count": 11,
   "metadata": {},
   "outputs": [
    {
     "name": "stdout",
     "output_type": "stream",
     "text": [
      "Sketch uses 1268 bytes (3%) of program storage space. Maximum is 32256 bytes.\n",
      "Global variables use 9 bytes (0%) of dynamic memory, leaving 2039 bytes for local variables. Maximum is 2048 bytes.\n",
      "\n",
      "\u001b[92mUsed platform\u001b[0m \u001b[92mVersion\u001b[0m \u001b[90mPath\u001b[0m                                                         \n",
      "\u001b[93marduino:avr\u001b[0m   1.8.6   \u001b[90m/home/ffelix07/.arduino15/packages/arduino/hardware/avr/1.8.6\u001b[0m\n",
      "\n"
     ]
    }
   ],
   "source": [
    "ard_infres.testCompilationSuccess(fqbn_ard,sketch_path)"
   ]
  },
  {
   "cell_type": "code",
   "execution_count": 12,
   "metadata": {},
   "outputs": [
    {
     "name": "stdout",
     "output_type": "stream",
     "text": [
      "New upload port: /dev/ttyACM0 (serial)\n",
      "\n"
     ]
    }
   ],
   "source": [
    "ard_infres.testUploadSuccess(port,sketch_path)"
   ]
  },
  {
   "cell_type": "code",
   "execution_count": null,
   "metadata": {},
   "outputs": [],
   "source": []
  },
  {
   "cell_type": "code",
   "execution_count": 21,
   "metadata": {},
   "outputs": [],
   "source": [
    "import arduino\n",
    "import os\n",
    "import re\n",
    "import pandas as pd\n",
    "import json"
   ]
  },
  {
   "cell_type": "code",
   "execution_count": 2,
   "metadata": {},
   "outputs": [
    {
     "data": {
      "text/plain": [
       "[{'matching_boards': [{'name': 'Arduino Uno', 'fqbn': 'arduino:avr:uno'}],\n",
       "  'port': {'address': '/dev/ttyACM0',\n",
       "   'label': '/dev/ttyACM0',\n",
       "   'protocol': 'serial',\n",
       "   'protocol_label': 'Serial Port (USB)',\n",
       "   'properties': {'pid': '0x0043',\n",
       "    'serialNumber': '75633313133351901271',\n",
       "    'vid': '0x2341'},\n",
       "   'hardware_id': '75633313133351901271'}},\n",
       " {'matching_boards': [{'name': 'Arduino Uno', 'fqbn': 'arduino:avr:uno'}],\n",
       "  'port': {'address': '/dev/ttyACM1',\n",
       "   'label': '/dev/ttyACM1',\n",
       "   'protocol': 'serial',\n",
       "   'protocol_label': 'Serial Port (USB)',\n",
       "   'properties': {'pid': '0x0043',\n",
       "    'serialNumber': '75735303831351B04242',\n",
       "    'vid': '0x2341'},\n",
       "   'hardware_id': '75735303831351B04242'}}]"
      ]
     },
     "execution_count": 2,
     "metadata": {},
     "output_type": "execute_result"
    }
   ],
   "source": [
    "dispositivos = json.loads(os.popen(\"arduino-cli board list --format json\").read())\n",
    "dispositivos"
   ]
  },
  {
   "cell_type": "code",
   "execution_count": 92,
   "metadata": {},
   "outputs": [
    {
     "data": {
      "text/html": [
       "<div>\n",
       "<style scoped>\n",
       "    .dataframe tbody tr th:only-of-type {\n",
       "        vertical-align: middle;\n",
       "    }\n",
       "\n",
       "    .dataframe tbody tr th {\n",
       "        vertical-align: top;\n",
       "    }\n",
       "\n",
       "    .dataframe thead th {\n",
       "        text-align: right;\n",
       "    }\n",
       "</style>\n",
       "<table border=\"1\" class=\"dataframe\">\n",
       "  <thead>\n",
       "    <tr style=\"text-align: right;\">\n",
       "      <th></th>\n",
       "      <th>0</th>\n",
       "      <th>1</th>\n",
       "      <th>2</th>\n",
       "      <th>3</th>\n",
       "      <th>4</th>\n",
       "      <th>5</th>\n",
       "      <th>6</th>\n",
       "    </tr>\n",
       "  </thead>\n",
       "  <tbody>\n",
       "    <tr>\n",
       "      <th>0</th>\n",
       "      <td>Bus</td>\n",
       "      <td>002</td>\n",
       "      <td>Device</td>\n",
       "      <td>001</td>\n",
       "      <td>ID</td>\n",
       "      <td>1d6b:0003</td>\n",
       "      <td>Linux Foundation 3.0 root hu</td>\n",
       "    </tr>\n",
       "    <tr>\n",
       "      <th>1</th>\n",
       "      <td>Bus</td>\n",
       "      <td>001</td>\n",
       "      <td>Device</td>\n",
       "      <td>004</td>\n",
       "      <td>ID</td>\n",
       "      <td>13d3:5a01</td>\n",
       "      <td>IMC Networks USB2.0 VGA UVC WebCa</td>\n",
       "    </tr>\n",
       "    <tr>\n",
       "      <th>2</th>\n",
       "      <td>Bus</td>\n",
       "      <td>001</td>\n",
       "      <td>Device</td>\n",
       "      <td>005</td>\n",
       "      <td>ID</td>\n",
       "      <td>04ca:3010</td>\n",
       "      <td>Lite-On Technology Corp.</td>\n",
       "    </tr>\n",
       "    <tr>\n",
       "      <th>3</th>\n",
       "      <td>Bus</td>\n",
       "      <td>001</td>\n",
       "      <td>Device</td>\n",
       "      <td>016</td>\n",
       "      <td>ID</td>\n",
       "      <td>0000:3825</td>\n",
       "      <td>USB OPTICAL MOUS</td>\n",
       "    </tr>\n",
       "    <tr>\n",
       "      <th>4</th>\n",
       "      <td>Bus</td>\n",
       "      <td>001</td>\n",
       "      <td>Device</td>\n",
       "      <td>017</td>\n",
       "      <td>ID</td>\n",
       "      <td>2341:0043</td>\n",
       "      <td>Arduino SA Uno R3 (CDC ACM</td>\n",
       "    </tr>\n",
       "    <tr>\n",
       "      <th>5</th>\n",
       "      <td>Bus</td>\n",
       "      <td>001</td>\n",
       "      <td>Device</td>\n",
       "      <td>001</td>\n",
       "      <td>ID</td>\n",
       "      <td>1d6b:0002</td>\n",
       "      <td>Linux Foundation 2.0 root hu</td>\n",
       "    </tr>\n",
       "    <tr>\n",
       "      <th>6</th>\n",
       "      <td></td>\n",
       "      <td></td>\n",
       "      <td></td>\n",
       "      <td></td>\n",
       "      <td></td>\n",
       "      <td></td>\n",
       "      <td></td>\n",
       "    </tr>\n",
       "  </tbody>\n",
       "</table>\n",
       "</div>"
      ],
      "text/plain": [
       "     0    1       2    3    4          5                                  6\n",
       "0  Bus  002  Device  001   ID  1d6b:0003       Linux Foundation 3.0 root hu\n",
       "1  Bus  001  Device  004   ID  13d3:5a01  IMC Networks USB2.0 VGA UVC WebCa\n",
       "2  Bus  001  Device  005   ID  04ca:3010           Lite-On Technology Corp.\n",
       "3  Bus  001  Device  016   ID  0000:3825                   USB OPTICAL MOUS\n",
       "4  Bus  001  Device  017   ID  2341:0043         Arduino SA Uno R3 (CDC ACM\n",
       "5  Bus  001  Device  001   ID  1d6b:0002       Linux Foundation 2.0 root hu\n",
       "6                                                                          "
      ]
     },
     "execution_count": 92,
     "metadata": {},
     "output_type": "execute_result"
    }
   ],
   "source": [
    "N = pd.DataFrame(os.popen(\"lsusb\").read().split('\\n'))[0].apply(lambda x:split_row(x,[0,4,8,15,19,23,33]) ).apply(pd.Series)\n",
    "N\n"
   ]
  },
  {
   "cell_type": "code",
   "execution_count": 93,
   "metadata": {},
   "outputs": [],
   "source": [
    "new= pd.DataFrame()\n",
    "new['Bus'] = N[1]\n",
    "new['Device'] = N[3]\n",
    "new['ID'] = N[5]\n",
    "new['info'] = N[6]"
   ]
  },
  {
   "cell_type": "code",
   "execution_count": 100,
   "metadata": {},
   "outputs": [
    {
     "data": {
      "text/plain": [
       "'  USB OPTICAL MOUS'"
      ]
     },
     "execution_count": 100,
     "metadata": {},
     "output_type": "execute_result"
    }
   ],
   "source": []
  },
  {
   "cell_type": "code",
   "execution_count": 97,
   "metadata": {},
   "outputs": [],
   "source": [
    "\n",
    "def tranform_mod(comando):\n",
    "    dispositivos = os.popen(comando).read()\n",
    "    info = pd.Series(list(dispositivos.split(sep='\\n')))\n",
    "    info = info[info.apply(len)>0]\n",
    "\n",
    "    final = info[1:].apply(lambda x: transform(x,info[0])).apply(pd.Series)\n",
    "    final = final.rename(columns = dict(zip(final.columns,get_head(info[0]))))\n",
    "\n",
    "    return  final"
   ]
  },
  {
   "cell_type": "code",
   "execution_count": 99,
   "metadata": {},
   "outputs": [],
   "source": [
    "\n",
    "info_mod = tranform_mod(\"lsmod\")"
   ]
  },
  {
   "cell_type": "code",
   "execution_count": 106,
   "metadata": {},
   "outputs": [
    {
     "data": {
      "text/plain": [
       "'  USB OPTICAL MOUS'"
      ]
     },
     "execution_count": 106,
     "metadata": {},
     "output_type": "execute_result"
    }
   ],
   "source": [
    "new['info'][3]"
   ]
  },
  {
   "cell_type": "code",
   "execution_count": 108,
   "metadata": {},
   "outputs": [
    {
     "ename": "AttributeError",
     "evalue": "'Series' object has no attribute 'sort'",
     "output_type": "error",
     "traceback": [
      "\u001b[0;31m---------------------------------------------------------------------------\u001b[0m",
      "\u001b[0;31mAttributeError\u001b[0m                            Traceback (most recent call last)",
      "\u001b[0;32m/tmp/ipykernel_4811/2282650684.py\u001b[0m in \u001b[0;36m?\u001b[0;34m()\u001b[0m\n\u001b[0;32m----> 1\u001b[0;31m \u001b[0minfo_mod\u001b[0m\u001b[0;34m[\u001b[0m\u001b[0;34m'Module'\u001b[0m\u001b[0;34m]\u001b[0m\u001b[0;34m.\u001b[0m\u001b[0msort\u001b[0m\u001b[0;34m(\u001b[0m\u001b[0;34m)\u001b[0m\u001b[0;34m\u001b[0m\u001b[0;34m\u001b[0m\u001b[0m\n\u001b[0m",
      "\u001b[0;32m~/.local/lib/python3.10/site-packages/pandas/core/generic.py\u001b[0m in \u001b[0;36m?\u001b[0;34m(self, name)\u001b[0m\n\u001b[1;32m   6200\u001b[0m             \u001b[0;32mand\u001b[0m \u001b[0mname\u001b[0m \u001b[0;32mnot\u001b[0m \u001b[0;32min\u001b[0m \u001b[0mself\u001b[0m\u001b[0;34m.\u001b[0m\u001b[0m_accessors\u001b[0m\u001b[0;34m\u001b[0m\u001b[0;34m\u001b[0m\u001b[0m\n\u001b[1;32m   6201\u001b[0m             \u001b[0;32mand\u001b[0m \u001b[0mself\u001b[0m\u001b[0;34m.\u001b[0m\u001b[0m_info_axis\u001b[0m\u001b[0;34m.\u001b[0m\u001b[0m_can_hold_identifiers_and_holds_name\u001b[0m\u001b[0;34m(\u001b[0m\u001b[0mname\u001b[0m\u001b[0;34m)\u001b[0m\u001b[0;34m\u001b[0m\u001b[0;34m\u001b[0m\u001b[0m\n\u001b[1;32m   6202\u001b[0m         ):\n\u001b[1;32m   6203\u001b[0m             \u001b[0;32mreturn\u001b[0m \u001b[0mself\u001b[0m\u001b[0;34m[\u001b[0m\u001b[0mname\u001b[0m\u001b[0;34m]\u001b[0m\u001b[0;34m\u001b[0m\u001b[0;34m\u001b[0m\u001b[0m\n\u001b[0;32m-> 6204\u001b[0;31m         \u001b[0;32mreturn\u001b[0m \u001b[0mobject\u001b[0m\u001b[0;34m.\u001b[0m\u001b[0m__getattribute__\u001b[0m\u001b[0;34m(\u001b[0m\u001b[0mself\u001b[0m\u001b[0;34m,\u001b[0m \u001b[0mname\u001b[0m\u001b[0;34m)\u001b[0m\u001b[0;34m\u001b[0m\u001b[0;34m\u001b[0m\u001b[0m\n\u001b[0m",
      "\u001b[0;31mAttributeError\u001b[0m: 'Series' object has no attribute 'sort'"
     ]
    }
   ],
   "source": [
    "info_mod['Module'].sort()"
   ]
  },
  {
   "cell_type": "code",
   "execution_count": 8,
   "metadata": {},
   "outputs": [],
   "source": [
    "sketch_path = \"/home/ffelix07/Documents/Arduino/Prueba\""
   ]
  },
  {
   "cell_type": "code",
   "execution_count": 9,
   "metadata": {},
   "outputs": [],
   "source": [
    "PORT = dispositivos[0]['port']['address']\n",
    "command = f\"arduino-cli -p {PORT} upload {sketch_path}\""
   ]
  },
  {
   "cell_type": "code",
   "execution_count": 13,
   "metadata": {},
   "outputs": [
    {
     "name": "stderr",
     "output_type": "stream",
     "text": [
      "Error during Upload: Can't open sketch: no such file or directory: /home/ffelix07/Documents/Arduino/Prueb\n"
     ]
    },
    {
     "ename": "JSONDecodeError",
     "evalue": "Expecting value: line 1 column 1 (char 0)",
     "output_type": "error",
     "traceback": [
      "\u001b[0;31m---------------------------------------------------------------------------\u001b[0m",
      "\u001b[0;31mJSONDecodeError\u001b[0m                           Traceback (most recent call last)",
      "\u001b[1;32m/home/ffelix07/Documents/LabRemo/Orchestrator/ros2_labremoto/src/py_pubsub/py_pubsub/pruebas.ipynb Celda 15\u001b[0m line \u001b[0;36m2\n\u001b[1;32m      <a href='vscode-notebook-cell:/home/ffelix07/Documents/LabRemo/Orchestrator/ros2_labremoto/src/py_pubsub/py_pubsub/pruebas.ipynb#X15sZmlsZQ%3D%3D?line=0'>1</a>\u001b[0m command \u001b[39m=\u001b[39m \u001b[39mf\u001b[39m\u001b[39m\"\u001b[39m\u001b[39marduino-cli -p \u001b[39m\u001b[39m{\u001b[39;00mPORT\u001b[39m}\u001b[39;00m\u001b[39m upload \u001b[39m\u001b[39m{\u001b[39;00msketch_path\u001b[39m}\u001b[39;00m\u001b[39m\"\u001b[39m\n\u001b[0;32m----> <a href='vscode-notebook-cell:/home/ffelix07/Documents/LabRemo/Orchestrator/ros2_labremoto/src/py_pubsub/py_pubsub/pruebas.ipynb#X15sZmlsZQ%3D%3D?line=1'>2</a>\u001b[0m upload_r \u001b[39m=\u001b[39m json\u001b[39m.\u001b[39;49mloads(os\u001b[39m.\u001b[39;49mpopen(command)\u001b[39m.\u001b[39;49mread())\n",
      "File \u001b[0;32m/usr/lib/python3.10/json/__init__.py:346\u001b[0m, in \u001b[0;36mloads\u001b[0;34m(s, cls, object_hook, parse_float, parse_int, parse_constant, object_pairs_hook, **kw)\u001b[0m\n\u001b[1;32m    341\u001b[0m     s \u001b[39m=\u001b[39m s\u001b[39m.\u001b[39mdecode(detect_encoding(s), \u001b[39m'\u001b[39m\u001b[39msurrogatepass\u001b[39m\u001b[39m'\u001b[39m)\n\u001b[1;32m    343\u001b[0m \u001b[39mif\u001b[39;00m (\u001b[39mcls\u001b[39m \u001b[39mis\u001b[39;00m \u001b[39mNone\u001b[39;00m \u001b[39mand\u001b[39;00m object_hook \u001b[39mis\u001b[39;00m \u001b[39mNone\u001b[39;00m \u001b[39mand\u001b[39;00m\n\u001b[1;32m    344\u001b[0m         parse_int \u001b[39mis\u001b[39;00m \u001b[39mNone\u001b[39;00m \u001b[39mand\u001b[39;00m parse_float \u001b[39mis\u001b[39;00m \u001b[39mNone\u001b[39;00m \u001b[39mand\u001b[39;00m\n\u001b[1;32m    345\u001b[0m         parse_constant \u001b[39mis\u001b[39;00m \u001b[39mNone\u001b[39;00m \u001b[39mand\u001b[39;00m object_pairs_hook \u001b[39mis\u001b[39;00m \u001b[39mNone\u001b[39;00m \u001b[39mand\u001b[39;00m \u001b[39mnot\u001b[39;00m kw):\n\u001b[0;32m--> 346\u001b[0m     \u001b[39mreturn\u001b[39;00m _default_decoder\u001b[39m.\u001b[39;49mdecode(s)\n\u001b[1;32m    347\u001b[0m \u001b[39mif\u001b[39;00m \u001b[39mcls\u001b[39m \u001b[39mis\u001b[39;00m \u001b[39mNone\u001b[39;00m:\n\u001b[1;32m    348\u001b[0m     \u001b[39mcls\u001b[39m \u001b[39m=\u001b[39m JSONDecoder\n",
      "File \u001b[0;32m/usr/lib/python3.10/json/decoder.py:337\u001b[0m, in \u001b[0;36mJSONDecoder.decode\u001b[0;34m(self, s, _w)\u001b[0m\n\u001b[1;32m    332\u001b[0m \u001b[39mdef\u001b[39;00m \u001b[39mdecode\u001b[39m(\u001b[39mself\u001b[39m, s, _w\u001b[39m=\u001b[39mWHITESPACE\u001b[39m.\u001b[39mmatch):\n\u001b[1;32m    333\u001b[0m \u001b[39m    \u001b[39m\u001b[39m\"\"\"Return the Python representation of ``s`` (a ``str`` instance\u001b[39;00m\n\u001b[1;32m    334\u001b[0m \u001b[39m    containing a JSON document).\u001b[39;00m\n\u001b[1;32m    335\u001b[0m \n\u001b[1;32m    336\u001b[0m \u001b[39m    \"\"\"\u001b[39;00m\n\u001b[0;32m--> 337\u001b[0m     obj, end \u001b[39m=\u001b[39m \u001b[39mself\u001b[39;49m\u001b[39m.\u001b[39;49mraw_decode(s, idx\u001b[39m=\u001b[39;49m_w(s, \u001b[39m0\u001b[39;49m)\u001b[39m.\u001b[39;49mend())\n\u001b[1;32m    338\u001b[0m     end \u001b[39m=\u001b[39m _w(s, end)\u001b[39m.\u001b[39mend()\n\u001b[1;32m    339\u001b[0m     \u001b[39mif\u001b[39;00m end \u001b[39m!=\u001b[39m \u001b[39mlen\u001b[39m(s):\n",
      "File \u001b[0;32m/usr/lib/python3.10/json/decoder.py:355\u001b[0m, in \u001b[0;36mJSONDecoder.raw_decode\u001b[0;34m(self, s, idx)\u001b[0m\n\u001b[1;32m    353\u001b[0m     obj, end \u001b[39m=\u001b[39m \u001b[39mself\u001b[39m\u001b[39m.\u001b[39mscan_once(s, idx)\n\u001b[1;32m    354\u001b[0m \u001b[39mexcept\u001b[39;00m \u001b[39mStopIteration\u001b[39;00m \u001b[39mas\u001b[39;00m err:\n\u001b[0;32m--> 355\u001b[0m     \u001b[39mraise\u001b[39;00m JSONDecodeError(\u001b[39m\"\u001b[39m\u001b[39mExpecting value\u001b[39m\u001b[39m\"\u001b[39m, s, err\u001b[39m.\u001b[39mvalue) \u001b[39mfrom\u001b[39;00m \u001b[39mNone\u001b[39;00m\n\u001b[1;32m    356\u001b[0m \u001b[39mreturn\u001b[39;00m obj, end\n",
      "\u001b[0;31mJSONDecodeError\u001b[0m: Expecting value: line 1 column 1 (char 0)"
     ]
    }
   ],
   "source": [
    "command = f\"arduino-cli -p {PORT} upload {sketch_path}\"\n",
    "upload_r = json.loads(os.popen(command).read())"
   ]
  },
  {
   "cell_type": "code",
   "execution_count": 14,
   "metadata": {},
   "outputs": [
    {
     "name": "stderr",
     "output_type": "stream",
     "text": [
      "not running in a terminal\n"
     ]
    },
    {
     "data": {
      "text/plain": [
       "256"
      ]
     },
     "execution_count": 14,
     "metadata": {},
     "output_type": "execute_result"
    }
   ],
   "source": [
    "os.system(f\"arduino-cli monitor -p {port} -b {fqbn_ard}\")"
   ]
  },
  {
   "cell_type": "code",
   "execution_count": null,
   "metadata": {},
   "outputs": [],
   "source": [
    "accion de tarjeta de tabjo progrmacion\n",
    "accion para tarjeta de infrestructura progrmacion\n",
    "servicios \n",
    "accion arduino mega inicializacion y mensaje \n"
   ]
  },
  {
   "cell_type": "code",
   "execution_count": null,
   "metadata": {},
   "outputs": [],
   "source": []
  }
 ],
 "metadata": {
  "kernelspec": {
   "display_name": "Python 3",
   "language": "python",
   "name": "python3"
  },
  "language_info": {
   "codemirror_mode": {
    "name": "ipython",
    "version": 3
   },
   "file_extension": ".py",
   "mimetype": "text/x-python",
   "name": "python",
   "nbconvert_exporter": "python",
   "pygments_lexer": "ipython3",
   "version": "3.10.12"
  },
  "orig_nbformat": 4
 },
 "nbformat": 4,
 "nbformat_minor": 2
}
